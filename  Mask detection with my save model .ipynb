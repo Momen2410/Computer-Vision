{
 "cells": [
  {
   "cell_type": "markdown",
   "id": "760b0441",
   "metadata": {},
   "source": [
    "# Mask detection with my save model "
   ]
  },
  {
   "cell_type": "code",
   "execution_count": null,
   "id": "fc64c16e",
   "metadata": {},
   "outputs": [],
   "source": [
    "import numpy as np \n",
    "import pandas as pd\n",
    "import cv2\n",
    "import tensorflow as tf\n",
    "from tensorflow.keras.models import load_model\n",
    "from tensorflow.keras.preprocessing.image import img_to_array\n",
    "from tensorflow.keras.applications.mobilenet_v2 import preprocess_input\n",
    "from imutils.video import VideoStream\n",
    "import os\n",
    "import imutils\n",
    "import time"
   ]
  },
  {
   "cell_type": "code",
   "execution_count": null,
   "id": "6d370fab",
   "metadata": {},
   "outputs": [],
   "source": [
    "def  detect_and_predict_mask(frame, faceNet, maskNet) :\n",
    "    \n",
    "    (h,w) = frame.shape[:2]\n",
    "    blob = cv2.dnn.blobFromImage(frame,1.0,(224,224),(104.0, 177.0, 123.0))\n",
    "    \n",
    "    faceNet.setInput(blob)\n",
    "    \n",
    "    detections = faceNet.forward()\n",
    "\n",
    "    faces = []\n",
    "    locs = []\n",
    "    preds = []\n",
    "    \n",
    "    for i in range(0, detections.shape[2]):\n",
    "        \n",
    "        confidence  = detections[0,0,i,2]\n",
    "        if confidence  > 0.5:\n",
    "            \n",
    "            box = detections[0, 0, i, 3:7] * np.array([w, h, w, h])\n",
    "            (startX, startY, endX, endY) = box.astype(\"int\")\n",
    "           \n",
    "            (startX, startY) = (max(0, startX), max(0, startY))\n",
    "            (endX, endY) = (min(w - 1, endX), min(h - 1, endY))\n",
    "           \n",
    "            face = frame[startY:endY, startX:endX]\n",
    "            face = cv2.cvtColor(face, cv2.COLOR_BGR2RGB)\n",
    "            face = cv2.resize(face, (224, 224))\n",
    "            face = img_to_array(face)\n",
    "            face = preprocess_input(face)\n",
    "            \n",
    "            faces.append(face)\n",
    "            locs.append((startX, startY, endX, endY))\n",
    "                                                  \n",
    "    if len(faces) > 0:\n",
    "        \n",
    "        faces = np.array(faces, dtype=\"float32\")\n",
    "        preds = maskNet.predict(faces, batch_size=32)\n",
    "\n",
    "    \n",
    "    return(locs,preds)  "
   ]
  },
  {
   "cell_type": "code",
   "execution_count": null,
   "id": "33e36c85",
   "metadata": {},
   "outputs": [],
   "source": [
    "# load pretraind models\n",
    "\n",
    "prototxtPath = r\"C:\\Users\\DR\\Downloads\\face_detector\\deploy.prototxt.txt\"\n",
    "weightsPath = r\"C:\\Users\\DR\\Downloads\\face_detector\\res10_300x300_ssd_iter_140000.caffemodel\"\n",
    "faceNet = cv2.dnn.readNetFromCaffe(prototxtPath, weightsPath)\n",
    "\n",
    "maskNet = load_model(\"mask_detector.model\")\n",
    "\n"
   ]
  },
  {
   "cell_type": "code",
   "execution_count": null,
   "id": "6d9afc5b",
   "metadata": {},
   "outputs": [],
   "source": [
    "vs = VideoStream(src=0).start()\n",
    "\n",
    "while True :\n",
    "    frame = vs.read()\n",
    "    frame = imutils.resize(frame,width=400)\n",
    "    \n",
    "    (locs, preds) = detect_and_predict_mask(frame, faceNet, maskNet)\n",
    "    \n",
    "    for (box, pred) in zip(locs, preds):\n",
    "\n",
    "        (startX, startY, endX, endY) = box\n",
    "        (mask, withoutMask) = pred\n",
    "\n",
    "       \n",
    "        label = \"Mask\" if mask > withoutMask else \"No Mask\"\n",
    "        color = (0, 255, 0) if label == \"Mask\" else (0, 0, 255)\n",
    "\n",
    "        label = \"{}: {:.2f}%\".format(label, max(mask, withoutMask) * 100)\n",
    "\n",
    "       \n",
    "        cv2.putText(frame, label, (startX, startY - 10),\n",
    "            cv2.FONT_HERSHEY_SIMPLEX, 0.45, color, 2)\n",
    "        cv2.rectangle(frame, (startX, startY), (endX, endY), color, 2)\n",
    "    \n",
    "    cv2.imshow(\"Frame\", frame)\n",
    "    key = cv2.waitKey(1) & 0xFF\n",
    "    \n",
    "    if key == 27:\n",
    "        break\n",
    "    \n",
    "cv2.destroyAllWindows()\n",
    "vs.stop()\n",
    "\n",
    "    "
   ]
  },
  {
   "cell_type": "code",
   "execution_count": null,
   "id": "38eb9ec7",
   "metadata": {},
   "outputs": [],
   "source": []
  },
  {
   "cell_type": "code",
   "execution_count": null,
   "id": "91e6c72a",
   "metadata": {},
   "outputs": [],
   "source": []
  },
  {
   "cell_type": "code",
   "execution_count": null,
   "id": "5d9579de",
   "metadata": {},
   "outputs": [],
   "source": []
  },
  {
   "cell_type": "code",
   "execution_count": null,
   "id": "25dce950",
   "metadata": {},
   "outputs": [],
   "source": []
  }
 ],
 "metadata": {
  "kernelspec": {
   "display_name": "Python 3 (ipykernel)",
   "language": "python",
   "name": "python3"
  },
  "language_info": {
   "codemirror_mode": {
    "name": "ipython",
    "version": 3
   },
   "file_extension": ".py",
   "mimetype": "text/x-python",
   "name": "python",
   "nbconvert_exporter": "python",
   "pygments_lexer": "ipython3",
   "version": "3.9.7"
  }
 },
 "nbformat": 4,
 "nbformat_minor": 5
}
