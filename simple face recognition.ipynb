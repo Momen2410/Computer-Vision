{
 "cells": [
  {
   "cell_type": "code",
   "execution_count": 1,
   "id": "77e08a27",
   "metadata": {},
   "outputs": [],
   "source": [
    "import numpy as np \n",
    "import cv2"
   ]
  },
  {
   "cell_type": "code",
   "execution_count": 2,
   "id": "5efe343a",
   "metadata": {},
   "outputs": [],
   "source": [
    "# non Function \n",
    "def nothing(x):\n",
    "    pass\n",
    "# record vedio on camera \n",
    "cap = cv2.VideoCapture(0)\n",
    "\n",
    "# creat a window and Track Bar\n",
    "cv2.namedWindow('Traking')\n",
    "cv2.createTrackbar('LH','Traking',0,255,nothing)\n",
    "cv2.createTrackbar('LS','Traking',0,255,nothing)\n",
    "cv2.createTrackbar('LV','Traking',0,255,nothing)\n",
    "cv2.createTrackbar('UH','Traking',255,255,nothing)\n",
    "cv2.createTrackbar('US','Traking',255,255,nothing)\n",
    "cv2.createTrackbar('UV','Traking',255,255,nothing)\n",
    "\n",
    "while(cap.isOpened()):\n",
    "    _, frame = cap.read()\n",
    "    \n",
    "    HSV = cv2.cvtColor(frame, cv2.COLOR_BGR2HSV)\n",
    "    \n",
    "    l_h = cv2.getTrackbarPos('LH','Traking')\n",
    "    l_s = cv2.getTrackbarPos('LS','Traking')\n",
    "    l_v = cv2.getTrackbarPos('LV','Traking')\n",
    "    \n",
    "    u_h = cv2.getTrackbarPos('UH','Traking')\n",
    "    u_s = cv2.getTrackbarPos('US','Traking')\n",
    "    u_v = cv2.getTrackbarPos('UV','Traking')\n",
    "    \n",
    "    l_b = np.array([l_h,l_s,l_v])\n",
    "    u_b = np.array([u_h,u_s,u_v])\n",
    "    \n",
    "    \n",
    "    \n",
    "    mask = cv2.inRange(HSV, l_b, u_b)\n",
    "    \n",
    "    res = cv2.bitwise_and(frame, frame, mask = mask )\n",
    "    \n",
    "    cv2.imshow('frame', frame)\n",
    "    cv2.imshow('res', res)\n",
    "    cv2.imshow('mask', mask)\n",
    "    \n",
    "    k = cv2.waitKey(1)\n",
    "    if k == 27:\n",
    "        break\n",
    "        \n",
    "cap.release()\n",
    "cv2.destroyAllWindows()\n",
    "\n",
    "\n",
    "\n",
    "\n",
    "\n",
    "\n",
    "\n"
   ]
  }
 ],
 "metadata": {
  "kernelspec": {
   "display_name": "Python 3 (ipykernel)",
   "language": "python",
   "name": "python3"
  },
  "language_info": {
   "codemirror_mode": {
    "name": "ipython",
    "version": 3
   },
   "file_extension": ".py",
   "mimetype": "text/x-python",
   "name": "python",
   "nbconvert_exporter": "python",
   "pygments_lexer": "ipython3",
   "version": "3.9.7"
  }
 },
 "nbformat": 4,
 "nbformat_minor": 5
}
