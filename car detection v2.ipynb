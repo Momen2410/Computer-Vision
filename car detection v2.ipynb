{
 "cells": [
  {
   "cell_type": "code",
   "execution_count": 1,
   "id": "0c13ee52",
   "metadata": {},
   "outputs": [],
   "source": [
    "import cv2 \n",
    "import numpy as np "
   ]
  },
  {
   "cell_type": "code",
   "execution_count": 21,
   "id": "306ab7db",
   "metadata": {},
   "outputs": [],
   "source": [
    "dect = []\n",
    "count = 0\n",
    "\n",
    "def center_r(x,y,w,h):\n",
    "    x1 = int((w/2))\n",
    "    y1 = int((h/2))\n",
    "    cx = x+x1\n",
    "    cy = y+y1\n",
    "    return cx,cy\n",
    "\n",
    "\n",
    "cap = cv2.VideoCapture(r'C:\\Users\\DR\\Downloads\\video.mp4')\n",
    "BGS = cv2.createBackgroundSubtractorKNN()\n",
    "while True:\n",
    "    _,frame = cap.read()\n",
    "    gray = cv2.cvtColor(frame,cv2.COLOR_BGR2GRAY)\n",
    "    img_sub = BGS.apply(gray)\n",
    "    blur = cv2.GaussianBlur(img_sub,(5,5),10)\n",
    "    _, thresh = cv2.threshold(blur,0,255,cv2.THRESH_BINARY+cv2.THRESH_OTSU)\n",
    "    dilate = cv2.dilate(thresh,np.ones((1,1)),iterations=5)\n",
    "    \n",
    "    contour,_ = cv2.findContours(dilate,cv2.RETR_TREE,cv2.CHAIN_APPROX_SIMPLE)\n",
    "    cv2.line(frame,(150,500),(1050,500),(176,130,39),2)\n",
    "    \n",
    "    for (i, c ) in enumerate(contour):\n",
    "        (x,y,w,h) = cv2.boundingRect(c)\n",
    "        \n",
    "        v_contour = (w >= 80) and (h >= 80)\n",
    "        if not v_contour:\n",
    "            continue\n",
    "        \n",
    "        \n",
    "        rectangle = cv2.rectangle(frame, (x,y),(x+w, y+h),(0,255,0),2)\n",
    "        \n",
    "        center = center_r(x,y,w,h)\n",
    "        dect.append(center)\n",
    "        circle = cv2.circle(frame,center,2,(0,0,255),-1)\n",
    "        \n",
    "        for (x,y) in dect:\n",
    "            \n",
    "            if (y < (500+6)) and (y > (500-6)):\n",
    "                count += 1\n",
    "                cv2.line(frame,(150,500),(1050,500),(0,0,255),2)\n",
    "                dect.remove((x,y))\n",
    "                \n",
    "    cv2.putText(frame, 'cars count : '+str(count), (330,70), cv2.FONT_HERSHEY_COMPLEX, 2, (0,0,255),3)   \n",
    "    cv2.imshow('video detection v2',frame)\n",
    "    cv2.imshow('dilat',dilate)\n",
    "    cv2.imshow('img_sub',img_sub)\n",
    "\n",
    "    \n",
    "    \n",
    "    if cv2.waitKey(15) == 27 :\n",
    "        break\n",
    "cv2.destroyAllWindows()\n",
    "cap.release()\n"
   ]
  }
 ],
 "metadata": {
  "kernelspec": {
   "display_name": "Python 3 (ipykernel)",
   "language": "python",
   "name": "python3"
  },
  "language_info": {
   "codemirror_mode": {
    "name": "ipython",
    "version": 3
   },
   "file_extension": ".py",
   "mimetype": "text/x-python",
   "name": "python",
   "nbconvert_exporter": "python",
   "pygments_lexer": "ipython3",
   "version": "3.9.7"
  }
 },
 "nbformat": 4,
 "nbformat_minor": 5
}
