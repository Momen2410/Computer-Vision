{
 "cells": [
  {
   "cell_type": "code",
   "execution_count": 1,
   "id": "8b8c37fb",
   "metadata": {},
   "outputs": [],
   "source": [
    "import mediapipe as mp\n",
    "import cv2\n",
    "import dlib"
   ]
  },
  {
   "cell_type": "code",
   "execution_count": 2,
   "id": "261f999a",
   "metadata": {},
   "outputs": [],
   "source": [
    "mp_face_mesh  = mp.solutions.face_mesh.FaceMesh()\n",
    "detector = dlib.get_frontal_face_detector()"
   ]
  },
  {
   "cell_type": "code",
   "execution_count": 3,
   "id": "67752f52",
   "metadata": {},
   "outputs": [],
   "source": [
    "cap = cv2.VideoCapture(0)\n",
    "\n",
    "while True :\n",
    "    _,frame = cap.read()\n",
    "    gray = cv2.cvtColor(frame,cv2.COLOR_BGR2GRAY)\n",
    "    rgp_face = cv2.cvtColor(frame,cv2.COLOR_BGR2RGB)\n",
    "    \n",
    "    res = mp_face_mesh.process(rgp_face)\n",
    "    faces = detector(gray)\n",
    "    height,width,_ = frame.shape\n",
    "    for face in faces :\n",
    "        x1 = face.left()\n",
    "        y1 = face.top()\n",
    "        x2 = face.right()\n",
    "        y2 = face.bottom()\n",
    "        cv2.rectangle(frame,(x1,y1),(x2,y2),(0,0,255),2)\n",
    "        cv2.putText(frame,'Face',(x1,y1-4),cv2.FONT_HERSHEY_COMPLEX_SMALL,2,(0,0,255),2)\n",
    "    for landmark in res.multi_face_landmarks :\n",
    "        for i in range(0,468):\n",
    "            pt1 = landmark.landmark[i]\n",
    "            x = int(pt1.x  * width)\n",
    "            y = int(pt1.y  * height)\n",
    "            \n",
    "            cv2.circle(frame,(x,y),1,(0,255,0),-1)\n",
    "            \n",
    "    cv2.imshow('frame',frame)\n",
    "    \n",
    "    if cv2.waitKey(1) == 27:\n",
    "        break\n",
    "cap.release()\n",
    "cv2.destroyAllWindows()\n",
    "    \n",
    "    "
   ]
  }
 ],
 "metadata": {
  "kernelspec": {
   "display_name": "Python 3 (ipykernel)",
   "language": "python",
   "name": "python3"
  },
  "language_info": {
   "codemirror_mode": {
    "name": "ipython",
    "version": 3
   },
   "file_extension": ".py",
   "mimetype": "text/x-python",
   "name": "python",
   "nbconvert_exporter": "python",
   "pygments_lexer": "ipython3",
   "version": "3.9.7"
  }
 },
 "nbformat": 4,
 "nbformat_minor": 5
}
