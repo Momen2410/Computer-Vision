{
 "cells": [
  {
   "cell_type": "markdown",
   "id": "d9e70d79",
   "metadata": {},
   "source": [
    "# Inporting liberaries"
   ]
  },
  {
   "cell_type": "code",
   "execution_count": 4,
   "id": "7d9567bf",
   "metadata": {},
   "outputs": [],
   "source": [
    "import cv2 as cv\n",
    "import numpy as np\n",
    "import datetime"
   ]
  },
  {
   "cell_type": "markdown",
   "id": "82aa6f70",
   "metadata": {},
   "source": [
    "# First step \n",
    " 1) input video and Handle frames\n",
    " \n",
    " 2) save an output on my laptop or pc"
   ]
  },
  {
   "cell_type": "code",
   "execution_count": 5,
   "id": "1f6cae31",
   "metadata": {},
   "outputs": [
    {
     "name": "stdout",
     "output_type": "stream",
     "text": [
      "768\n",
      "576\n"
     ]
    }
   ],
   "source": [
    "cap = cv.VideoCapture(r'C:\\Users\\DR\\Downloads\\vtest.avi') # open vedio \n",
    "\n",
    "f_width = print(int(cap.get(cv.CAP_PROP_FRAME_WIDTH))) \n",
    "f_height = print(int(cap.get(cv.CAP_PROP_FRAME_HEIGHT)))\n",
    "\n",
    "fourcc = cv.VideoWriter_fourcc(*'XVID')\n",
    "out = cv.VideoWriter('output.avi ', fourcc, 60 , (1280,720))\n",
    "\n",
    "_,frame1 = cap.read()\n",
    "_,frame2 = cap.read()\n"
   ]
  },
  {
   "cell_type": "markdown",
   "id": "119e2b61",
   "metadata": {},
   "source": [
    "# Second step\n",
    "\n",
    " 1) make abbselute differants \n",
    " \n",
    " 2) convert abbselute differants to gray scale \n",
    " \n",
    " 3) make Blure on new video( gray )\n",
    " \n",
    " 4) make new Thresh hold and dilated\n",
    " \n",
    " 5) make contours and drew it the original video "
   ]
  },
  {
   "cell_type": "code",
   "execution_count": 3,
   "id": "17f9258e",
   "metadata": {},
   "outputs": [],
   "source": [
    "while (cap.isOpened()):\n",
    "    \n",
    "    diff = cv.absdiff(frame1,frame2)\n",
    "    \n",
    "    gray = cv.cvtColor(diff, cv.COLOR_BGR2GRAY)\n",
    "    \n",
    "    Blur = cv.GaussianBlur(gray, (5,5), 0)\n",
    "    \n",
    "    _, thresh = cv.threshold(Blur,60,255,cv.THRESH_BINARY)\n",
    "    \n",
    "    dilated = cv.dilate(thresh,None, iterations = 14 )\n",
    "    \n",
    "    contours, _ = cv.findContours(dilated,cv.RETR_TREE, cv.CHAIN_APPROX_NONE)\n",
    "    \n",
    "    for contour in contours:\n",
    "        (x, y, w, h ) = cv.boundingRect(contour)\n",
    "        \n",
    "        if cv.contourArea(contour) < 1000 :\n",
    "            continue \n",
    "        \n",
    "        \n",
    "        cv.rectangle(frame1, ( x, y ),( x+w, y+h ), (0,0,255), 2)\n",
    "        cv.putText(frame1, str(datetime.datetime.now()),(10,30),cv.FONT_HERSHEY_SIMPLEX,1,(255,255,255),3)\n",
    "        cv.putText(frame1,'Motion detection By Momen ',(10,60),cv.FONT_HERSHEY_SIMPLEX,1,(255,255,255),3)\n",
    "\n",
    "    img = cv.resize(frame1,(1280, 720) )  \n",
    "    out.write(img)\n",
    "    cv.imshow('Tresh hold', thresh)\n",
    "    cv.imshow('Motion detection ', frame1)\n",
    "    \n",
    "    frame1 = frame2\n",
    "    _,frame2 = cap.read()\n",
    "    \n",
    "    \n",
    "    if cv.waitKey(60) == 27 :\n",
    "        break\n",
    "        \n",
    "        \n",
    "cv.destroyAllWindows()\n",
    "cap.release()\n",
    "out.release()"
   ]
  }
 ],
 "metadata": {
  "kernelspec": {
   "display_name": "Python 3 (ipykernel)",
   "language": "python",
   "name": "python3"
  },
  "language_info": {
   "codemirror_mode": {
    "name": "ipython",
    "version": 3
   },
   "file_extension": ".py",
   "mimetype": "text/x-python",
   "name": "python",
   "nbconvert_exporter": "python",
   "pygments_lexer": "ipython3",
   "version": "3.9.7"
  }
 },
 "nbformat": 4,
 "nbformat_minor": 5
}
